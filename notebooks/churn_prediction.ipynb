{
 "cells": [
  {
   "cell_type": "markdown",
   "id": "55e4ded0-e26f-4626-b275-f4fc3ebeba97",
   "metadata": {},
   "source": [
    "Data Loading & Preprocessing"
   ]
  },
  {
   "cell_type": "code",
   "execution_count": 22,
   "id": "fb6ec7ef-6943-48e7-a6d3-d4470faf5861",
   "metadata": {},
   "outputs": [],
   "source": [
    "def load_and_preprocess_data(path):\n",
    "    df = pd.read_csv('../data/Churn_Modelling.csv')\n",
    "    df.drop(['RowNumber', 'CustomerId', 'Surname'], axis=1, inplace=True)\n",
    "\n",
    "    # Encode categorical variables\n",
    "    df['Gender'] = LabelEncoder().fit_transform(df['Gender'])  # Male=1, Female=0\n",
    "    df = pd.get_dummies(df, columns=['Geography'], drop_first=True)\n",
    "\n",
    "    X = df.drop('Exited', axis=1)\n",
    "    y = df['Exited']\n",
    "\n",
    "    # Scale features\n",
    "    scaler = StandardScaler()\n",
    "    X_scaled = scaler.fit_transform(X)\n",
    "\n",
    "    return train_test_split(X_scaled, y, test_size=0.2, random_state=42), X.columns"
   ]
  },
  {
   "cell_type": "markdown",
   "id": "216e5aeb-377c-4f4a-9927-3e72fc58fea3",
   "metadata": {},
   "source": [
    "Model Training & Evaluation"
   ]
  },
  {
   "cell_type": "code",
   "execution_count": 25,
   "id": "46023104-4e64-4072-9dff-1ed9d00e2985",
   "metadata": {},
   "outputs": [],
   "source": [
    "def train_and_evaluate_model(model, X_train, X_test, y_train, y_test):\n",
    "    model.fit(X_train, y_train)\n",
    "    y_pred = model.predict(X_test)\n",
    "    y_proba = model.predict_proba(X_test)[:, 1]\n",
    "\n",
    "    accuracy = accuracy_score(y_test, y_pred)\n",
    "    roc_auc = roc_auc_score(y_test, y_proba)\n",
    "    report = classification_report(y_test, y_pred)\n",
    "\n",
    "    print(f\"🔍 Model: {model.__class__.__name__}\")\n",
    "    print(f\"✅ Accuracy: {accuracy:.4f}\")\n",
    "    print(f\"📈 ROC AUC: {roc_auc:.4f}\")\n",
    "    print(\"📋 Classification Report:\")\n",
    "    print(report)\n",
    "    print(\"=\"*50)"
   ]
  },
  {
   "cell_type": "markdown",
   "id": "f8d9daa2-481a-49e7-bb0e-5f0834ce36af",
   "metadata": {},
   "source": [
    "Feature Importance (for tree models)"
   ]
  },
  {
   "cell_type": "code",
   "execution_count": 28,
   "id": "cc305702-42cc-4602-b30e-810d2a9ca2b9",
   "metadata": {},
   "outputs": [],
   "source": [
    "def plot_feature_importance(model, feature_names):\n",
    "    if hasattr(model, 'feature_importances_'):\n",
    "        importances = model.feature_importances_\n",
    "        indices = np.argsort(importances)\n",
    "        plt.figure(figsize=(10, 6))\n",
    "        plt.barh(range(len(indices)), importances[indices], align='center')\n",
    "        plt.yticks(range(len(indices)), [feature_names[i] for i in indices])\n",
    "        plt.xlabel(\"Feature Importance\")\n",
    "        plt.title(f\"Feature Importance - {model.__class__.__name__}\")\n",
    "        plt.show()"
   ]
  },
  {
   "cell_type": "code",
   "execution_count": 30,
   "id": "e1e857c8-24c3-4d3f-8b55-d2e83613bb9a",
   "metadata": {},
   "outputs": [],
   "source": [
    "(X_train, X_test, y_train, y_test), feature_names = load_and_preprocess_data(\"Churn_Modelling.csv\")"
   ]
  },
  {
   "cell_type": "markdown",
   "id": "dba7fea1-c5c0-4070-9107-508164047a19",
   "metadata": {},
   "source": [
    " Train models and save trained models in a list"
   ]
  },
  {
   "cell_type": "code",
   "execution_count": 33,
   "id": "4fa6a4f2-3d63-4fda-880b-668300052fe3",
   "metadata": {},
   "outputs": [],
   "source": [
    "models = [\n",
    "    LogisticRegression(max_iter=1000, random_state=42).fit(X_train, y_train),\n",
    "    RandomForestClassifier(random_state=42, n_jobs=-1).fit(X_train, y_train),\n",
    "    GradientBoostingClassifier(random_state=42).fit(X_train, y_train),\n",
    "    XGBClassifier(eval_metric='logloss', random_state=42, n_jobs=-1).fit(X_train, y_train)\n",
    "]"
   ]
  },
  {
   "cell_type": "markdown",
   "id": "4863f3f1-8506-43a3-9002-7983910e4b70",
   "metadata": {},
   "source": [
    "Train and evaluate all models"
   ]
  },
  {
   "cell_type": "code",
   "execution_count": 36,
   "id": "e6cbcc34-8706-4bd9-b380-00dd0c056dfb",
   "metadata": {},
   "outputs": [
    {
     "name": "stdout",
     "output_type": "stream",
     "text": [
      "🔍 Model: LogisticRegression\n",
      "✅ Accuracy: 0.8110\n",
      "📈 ROC AUC: 0.7789\n",
      "📋 Classification Report:\n",
      "              precision    recall  f1-score   support\n",
      "\n",
      "           0       0.83      0.96      0.89      1607\n",
      "           1       0.55      0.20      0.29       393\n",
      "\n",
      "    accuracy                           0.81      2000\n",
      "   macro avg       0.69      0.58      0.59      2000\n",
      "weighted avg       0.78      0.81      0.77      2000\n",
      "\n",
      "==================================================\n",
      "🔍 Model: RandomForestClassifier\n",
      "✅ Accuracy: 0.8660\n",
      "📈 ROC AUC: 0.8576\n",
      "📋 Classification Report:\n",
      "              precision    recall  f1-score   support\n",
      "\n",
      "           0       0.88      0.97      0.92      1607\n",
      "           1       0.77      0.46      0.57       393\n",
      "\n",
      "    accuracy                           0.87      2000\n",
      "   macro avg       0.82      0.71      0.75      2000\n",
      "weighted avg       0.86      0.87      0.85      2000\n",
      "\n",
      "==================================================\n",
      "🔍 Model: GradientBoostingClassifier\n",
      "✅ Accuracy: 0.8675\n",
      "📈 ROC AUC: 0.8729\n",
      "📋 Classification Report:\n",
      "              precision    recall  f1-score   support\n",
      "\n",
      "           0       0.88      0.96      0.92      1607\n",
      "           1       0.75      0.49      0.59       393\n",
      "\n",
      "    accuracy                           0.87      2000\n",
      "   macro avg       0.82      0.72      0.76      2000\n",
      "weighted avg       0.86      0.87      0.86      2000\n",
      "\n",
      "==================================================\n",
      "🔍 Model: XGBClassifier\n",
      "✅ Accuracy: 0.8640\n",
      "📈 ROC AUC: 0.8495\n",
      "📋 Classification Report:\n",
      "              precision    recall  f1-score   support\n",
      "\n",
      "           0       0.89      0.95      0.92      1607\n",
      "           1       0.71      0.51      0.60       393\n",
      "\n",
      "    accuracy                           0.86      2000\n",
      "   macro avg       0.80      0.73      0.76      2000\n",
      "weighted avg       0.85      0.86      0.86      2000\n",
      "\n",
      "==================================================\n"
     ]
    }
   ],
   "source": [
    "for model in models:\n",
    "    train_and_evaluate_model(model, X_train, X_test, y_train, y_test)"
   ]
  },
  {
   "cell_type": "markdown",
   "id": "9fc47f8b-f90a-43c7-954b-36032c8c1261",
   "metadata": {},
   "source": [
    "Plot feature importance for GradientBoostingClassifier"
   ]
  },
  {
   "cell_type": "code",
   "execution_count": 39,
   "id": "4459ae39-87ef-4347-9150-d35744be8651",
   "metadata": {},
   "outputs": [
    {
     "data": {
      "image/png": "[encoded data removed]",
      "text/plain": [
       "<Figure size 1000x600 with 1 Axes>"
      ]
     },
     "metadata": {},
     "output_type": "display_data"
    }
   ],
   "source": [
    "gb_model = GradientBoostingClassifier(random_state=42).fit(X_train, y_train)\n",
    "plot_feature_importance(gb_model, feature_names)\n"
   ]
  },
  {
   "cell_type": "markdown",
   "id": "255fb80b-5ef4-48a2-9494-42c248cd9dcd",
   "metadata": {},
   "source": [
    "Save all models to a single file with compression"
   ]
  },
  {
   "cell_type": "code",
   "execution_count": 42,
   "id": "6b3a37b7-e3ae-497d-8db8-e61a4f98e704",
   "metadata": {},
   "outputs": [
    {
     "name": "stdout",
     "output_type": "stream",
     "text": [
      "All models saved to 'models/all_models_churn.pkl'\n"
     ]
    }
   ],
   "source": [
    "joblib.dump(models, '../models/all_models_churn.pkl', compress=3)\n",
    "print(\"All models saved to 'models/all_models_churn.pkl'\")"
   ]
  },
  {
   "cell_type": "code",
   "execution_count": null,
   "id": "a72c0ffa-4792-4703-a379-ba2c16fd65e1",
   "metadata": {},
   "outputs": [],
   "source": []
  }
 ],
 "metadata": {
  "kernelspec": {
   "display_name": "Python [conda env:base] *",
   "language": "python",
   "name": "conda-base-py"
  },
  "language_info": {
   "codemirror_mode": {
    "name": "ipython",
    "version": 3
   },
   "file_extension": ".py",
   "mimetype": "text/x-python",
   "name": "python",
   "nbconvert_exporter": "python",
   "pygments_lexer": "ipython3",
   "version": "3.12.7"
  }
 },
 "nbformat": 4,
 "nbformat_minor": 5
}
